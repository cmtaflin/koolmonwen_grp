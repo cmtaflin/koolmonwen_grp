{
 "cells": [
  {
   "cell_type": "code",
   "execution_count": 1,
   "metadata": {},
   "outputs": [],
   "source": [
    "# Dependencies\n",
    "import pandas as pd\n",
    "import json\n",
    "from sqlalchemy.ext.declarative import declarative_base\n",
    "Base = declarative_base()\n",
    "from sqlalchemy import Column, Integer, String, Float, Date\n",
    "import pymysql\n",
    "pymysql.install_as_MySQLdb()\n",
    "from sqlalchemy import create_engine"
   ]
  },
  {
   "cell_type": "code",
   "execution_count": 2,
   "metadata": {},
   "outputs": [],
   "source": [
    "# read in happiness files for all years\n",
    "happiness_file_15 = \"Data/happiness_2015.csv\"\n",
    "happy15_df = pd.read_csv(happiness_file_15)\n",
    "\n",
    "happiness_file_16 = \"Data/happiness_2016.csv\"\n",
    "happy16_df = pd.read_csv(happiness_file_16)\n",
    "\n",
    "happiness_file_17 = \"Data/happiness_2017.csv\"\n",
    "happy17_df = pd.read_csv(happiness_file_17)\n",
    "\n",
    "# read in region and continents data\n",
    "region_cont = \"Data/region_continent.csv\"\n",
    "region_cont_df = pd.read_csv(region_cont)\n"
   ]
  },
  {
   "cell_type": "code",
   "execution_count": 3,
   "metadata": {},
   "outputs": [],
   "source": [
    "# Create YEAR and UNIQUE_ID fields\n",
    "# 2015\n",
    "happy15_df['YEAR'] = 2015\n",
    "happy15_df['UNIQUE_ID'] = happy15_df['COUNTRY'] + '_' + happy15_df.YEAR.map(str)\n",
    "\n",
    "# 2016\n",
    "happy16_df['YEAR'] = 2016\n",
    "happy16_df['UNIQUE_ID'] = happy16_df['COUNTRY'] + '_' + happy16_df.YEAR.map(str)\n",
    "\n",
    "# 2017\n",
    "happy17_df['YEAR'] = 2017\n",
    "happy17_df['UNIQUE_ID'] = happy17_df['COUNTRY'] + '_' + happy17_df.YEAR.map(str)"
   ]
  },
  {
   "cell_type": "code",
   "execution_count": 4,
   "metadata": {},
   "outputs": [],
   "source": [
    "#Merge to capture Region and Continent data\n",
    "happy15_region_df = pd.merge(happy15_df, region_cont_df, on=\"COUNTRY\")\n",
    "happy16_region_df = pd.merge(happy16_df, region_cont_df, on=\"COUNTRY\")\n",
    "happy17_region_df = pd.merge(happy17_df, region_cont_df, on=\"COUNTRY\")"
   ]
  },
  {
   "cell_type": "code",
   "execution_count": 5,
   "metadata": {},
   "outputs": [],
   "source": [
    "# Set index\n",
    "happy15_region_df.set_index(\"UNIQUE_ID\", inplace=True)\n",
    "happy16_region_df.set_index(\"UNIQUE_ID\", inplace=True)\n",
    "happy17_region_df.set_index(\"UNIQUE_ID\", inplace=True)"
   ]
  },
  {
   "cell_type": "code",
   "execution_count": 6,
   "metadata": {},
   "outputs": [],
   "source": [
    "# Combine all year DF's into one DF\n",
    "happyall_region_df = pd.concat([happy15_region_df, happy16_region_df, happy17_region_df])"
   ]
  },
  {
   "cell_type": "code",
   "execution_count": 7,
   "metadata": {},
   "outputs": [],
   "source": [
    "#Reorder fields for final output\n",
    "all_cols = ['YEAR','COUNTRY','REGION','CONTINENT','HAPPINESS_RANK','HAPPINESS_SCORE','ECONOMY_GDP_PER_CAPITA',\n",
    "                      'FAMILY','HEALTH_LIFE_EXPECTANCY','FREEDOM','GENEROSITY','TRUST_GOVERNMENT_CORRUPTION','DYSTOPIA_RESIDUAL']\n",
    "happyall_region_df2= happyall_region_df[all_cols].copy()"
   ]
  },
  {
   "cell_type": "code",
   "execution_count": 8,
   "metadata": {},
   "outputs": [],
   "source": [
    "#Create database connection\n",
    "##Note: {your_password} should be inserted\n",
    "connection_string = \"root:datascience2018@127.0.0.1/happiness_data\"\n",
    "engine = create_engine(f'mysql://{connection_string}')\n",
    "\n",
    "# confirm tables\n",
    "# engine.table_names()"
   ]
  },
  {
   "cell_type": "code",
   "execution_count": 9,
   "metadata": {},
   "outputs": [],
   "source": [
    "# load final df into sql database\n",
    "happyall_region_df2.to_sql(name='happiness_by_region_yr', con=engine, if_exists='append', index=True)"
   ]
  },
  {
   "cell_type": "code",
   "execution_count": null,
   "metadata": {},
   "outputs": [],
   "source": []
  }
 ],
 "metadata": {
  "kernelspec": {
   "display_name": "Python 3",
   "language": "python",
   "name": "python3"
  },
  "language_info": {
   "codemirror_mode": {
    "name": "ipython",
    "version": 3
   },
   "file_extension": ".py",
   "mimetype": "text/x-python",
   "name": "python",
   "nbconvert_exporter": "python",
   "pygments_lexer": "ipython3",
   "version": "3.6.5"
  }
 },
 "nbformat": 4,
 "nbformat_minor": 2
}
