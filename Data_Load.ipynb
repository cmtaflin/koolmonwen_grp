{
 "cells": [
  {
   "cell_type": "code",
   "execution_count": 32,
   "metadata": {},
   "outputs": [],
   "source": [
    "# Dependencies\n",
    "import pandas as pd\n",
    "import json\n",
    "from sqlalchemy.ext.declarative import declarative_base\n",
    "Base = declarative_base()\n",
    "from sqlalchemy import Column, Integer, String, Float, Date\n",
    "import pymysql\n",
    "pymysql.install_as_MySQLdb()\n",
    "from sqlalchemy import create_engine"
   ]
  },
  {
   "cell_type": "code",
   "execution_count": 33,
   "metadata": {},
   "outputs": [],
   "source": [
    "# read in happiness files for all years\n",
    "happiness_file_15 = \"Data/happiness_2015.csv\"\n",
    "happy15_df = pd.read_csv(happiness_file_15)\n",
    "\n",
    "happiness_file_16 = \"Data/happiness_2016.csv\"\n",
    "happy16_df = pd.read_csv(happiness_file_16)\n",
    "\n",
    "happiness_file_17 = \"Data/happiness_2017.csv\"\n",
    "happy17_df = pd.read_csv(happiness_file_17)\n",
    "\n",
    "# read in region and continents data\n",
    "region_cont = \"Data/region_continent.csv\"\n",
    "region_cont_df = pd.read_csv(region_cont)\n"
   ]
  },
  {
   "cell_type": "code",
   "execution_count": 37,
   "metadata": {},
   "outputs": [],
   "source": [
    "# Create YEAR and UNIQUE_ID fields\n",
    "# 2015\n",
    "happy15_df['YEAR'] = 2015\n",
    "happy15_df['UNIQUE_ID'] = happy15_df['COUNTRY'] + '_' + happy15_df.YEAR.map(str)\n",
    "\n",
    "# 2016\n",
    "happy16_df['YEAR'] = 2016\n",
    "happy16_df['UNIQUE_ID'] = happy16_df['COUNTRY'] + '_' + happy16_df.YEAR.map(str)\n",
    "\n",
    "# 2017\n",
    "happy17_df['YEAR'] = 2017\n",
    "happy17_df['UNIQUE_ID'] = happy17_df['COUNTRY'] + '_' + happy17_df.YEAR.map(str)"
   ]
  },
  {
   "cell_type": "code",
   "execution_count": 43,
   "metadata": {},
   "outputs": [],
   "source": [
    "#Merge to capture Region and Continent data\n",
    "happy15_region_df = pd.merge(happy15_df, region_cont_df, on=\"COUNTRY\")\n",
    "happy16_region_df = pd.merge(happy16_df, region_cont_df, on=\"COUNTRY\")\n",
    "happy17_region_df = pd.merge(happy17_df, region_cont_df, on=\"COUNTRY\")"
   ]
  },
  {
   "cell_type": "code",
   "execution_count": 46,
   "metadata": {},
   "outputs": [],
   "source": [
    "# Set index\n",
    "happy15_region_df.set_index(\"UNIQUE_ID\", inplace=True)\n",
    "happy16_region_df.set_index(\"UNIQUE_ID\", inplace=True)\n",
    "happy17_region_df.set_index(\"UNIQUE_ID\", inplace=True)"
   ]
  },
  {
   "cell_type": "code",
   "execution_count": 48,
   "metadata": {},
   "outputs": [
    {
     "data": {
      "text/html": [
       "<div>\n",
       "<style scoped>\n",
       "    .dataframe tbody tr th:only-of-type {\n",
       "        vertical-align: middle;\n",
       "    }\n",
       "\n",
       "    .dataframe tbody tr th {\n",
       "        vertical-align: top;\n",
       "    }\n",
       "\n",
       "    .dataframe thead th {\n",
       "        text-align: right;\n",
       "    }\n",
       "</style>\n",
       "<table border=\"1\" class=\"dataframe\">\n",
       "  <thead>\n",
       "    <tr style=\"text-align: right;\">\n",
       "      <th></th>\n",
       "      <th>COUNTRY</th>\n",
       "      <th>HAPPINESS_RANK</th>\n",
       "      <th>HAPPINESS_SCORE</th>\n",
       "      <th>ECONOMY_GDP_PER_CAPITA</th>\n",
       "      <th>FAMILY</th>\n",
       "      <th>HEALTH_LIFE_EXPECTANCY</th>\n",
       "      <th>FREEDOM</th>\n",
       "      <th>GENEROSITY</th>\n",
       "      <th>TRUST_GOVERNMENT_CORRUPTION</th>\n",
       "      <th>DYSTOPIA_RESIDUAL</th>\n",
       "      <th>YEAR</th>\n",
       "      <th>REGION</th>\n",
       "      <th>CONTINENT</th>\n",
       "    </tr>\n",
       "    <tr>\n",
       "      <th>UNIQUE_ID</th>\n",
       "      <th></th>\n",
       "      <th></th>\n",
       "      <th></th>\n",
       "      <th></th>\n",
       "      <th></th>\n",
       "      <th></th>\n",
       "      <th></th>\n",
       "      <th></th>\n",
       "      <th></th>\n",
       "      <th></th>\n",
       "      <th></th>\n",
       "      <th></th>\n",
       "      <th></th>\n",
       "    </tr>\n",
       "  </thead>\n",
       "  <tbody>\n",
       "    <tr>\n",
       "      <th>Switzerland_2015</th>\n",
       "      <td>Switzerland</td>\n",
       "      <td>1</td>\n",
       "      <td>7.587</td>\n",
       "      <td>1.39651</td>\n",
       "      <td>1.34951</td>\n",
       "      <td>0.94143</td>\n",
       "      <td>0.66557</td>\n",
       "      <td>0.29678</td>\n",
       "      <td>0.41978</td>\n",
       "      <td>2.51738</td>\n",
       "      <td>2015</td>\n",
       "      <td>Europe</td>\n",
       "      <td>Europe</td>\n",
       "    </tr>\n",
       "    <tr>\n",
       "      <th>Iceland_2015</th>\n",
       "      <td>Iceland</td>\n",
       "      <td>2</td>\n",
       "      <td>7.561</td>\n",
       "      <td>1.30232</td>\n",
       "      <td>1.40223</td>\n",
       "      <td>0.94784</td>\n",
       "      <td>0.62877</td>\n",
       "      <td>0.43630</td>\n",
       "      <td>0.14145</td>\n",
       "      <td>2.70201</td>\n",
       "      <td>2015</td>\n",
       "      <td>Europe</td>\n",
       "      <td>Europe</td>\n",
       "    </tr>\n",
       "    <tr>\n",
       "      <th>Denmark_2015</th>\n",
       "      <td>Denmark</td>\n",
       "      <td>3</td>\n",
       "      <td>7.527</td>\n",
       "      <td>1.32548</td>\n",
       "      <td>1.36058</td>\n",
       "      <td>0.87464</td>\n",
       "      <td>0.64938</td>\n",
       "      <td>0.34139</td>\n",
       "      <td>0.48357</td>\n",
       "      <td>2.49204</td>\n",
       "      <td>2015</td>\n",
       "      <td>Europe</td>\n",
       "      <td>Europe</td>\n",
       "    </tr>\n",
       "    <tr>\n",
       "      <th>Norway_2015</th>\n",
       "      <td>Norway</td>\n",
       "      <td>4</td>\n",
       "      <td>7.522</td>\n",
       "      <td>1.45900</td>\n",
       "      <td>1.33095</td>\n",
       "      <td>0.88521</td>\n",
       "      <td>0.66973</td>\n",
       "      <td>0.34699</td>\n",
       "      <td>0.36503</td>\n",
       "      <td>2.46531</td>\n",
       "      <td>2015</td>\n",
       "      <td>Europe</td>\n",
       "      <td>Europe</td>\n",
       "    </tr>\n",
       "    <tr>\n",
       "      <th>Canada_2015</th>\n",
       "      <td>Canada</td>\n",
       "      <td>5</td>\n",
       "      <td>7.427</td>\n",
       "      <td>1.32629</td>\n",
       "      <td>1.32261</td>\n",
       "      <td>0.90563</td>\n",
       "      <td>0.63297</td>\n",
       "      <td>0.45811</td>\n",
       "      <td>0.32957</td>\n",
       "      <td>2.45176</td>\n",
       "      <td>2015</td>\n",
       "      <td>North America</td>\n",
       "      <td>North America</td>\n",
       "    </tr>\n",
       "  </tbody>\n",
       "</table>\n",
       "</div>"
      ],
      "text/plain": [
       "                      COUNTRY  HAPPINESS_RANK  HAPPINESS_SCORE  \\\n",
       "UNIQUE_ID                                                        \n",
       "Switzerland_2015  Switzerland               1            7.587   \n",
       "Iceland_2015          Iceland               2            7.561   \n",
       "Denmark_2015          Denmark               3            7.527   \n",
       "Norway_2015            Norway               4            7.522   \n",
       "Canada_2015            Canada               5            7.427   \n",
       "\n",
       "                  ECONOMY_GDP_PER_CAPITA   FAMILY  HEALTH_LIFE_EXPECTANCY  \\\n",
       "UNIQUE_ID                                                                   \n",
       "Switzerland_2015                 1.39651  1.34951                 0.94143   \n",
       "Iceland_2015                     1.30232  1.40223                 0.94784   \n",
       "Denmark_2015                     1.32548  1.36058                 0.87464   \n",
       "Norway_2015                      1.45900  1.33095                 0.88521   \n",
       "Canada_2015                      1.32629  1.32261                 0.90563   \n",
       "\n",
       "                  FREEDOM  GENEROSITY  TRUST_GOVERNMENT_CORRUPTION  \\\n",
       "UNIQUE_ID                                                            \n",
       "Switzerland_2015  0.66557     0.29678                      0.41978   \n",
       "Iceland_2015      0.62877     0.43630                      0.14145   \n",
       "Denmark_2015      0.64938     0.34139                      0.48357   \n",
       "Norway_2015       0.66973     0.34699                      0.36503   \n",
       "Canada_2015       0.63297     0.45811                      0.32957   \n",
       "\n",
       "                  DYSTOPIA_RESIDUAL  YEAR         REGION      CONTINENT  \n",
       "UNIQUE_ID                                                                \n",
       "Switzerland_2015            2.51738  2015         Europe         Europe  \n",
       "Iceland_2015                2.70201  2015         Europe         Europe  \n",
       "Denmark_2015                2.49204  2015         Europe         Europe  \n",
       "Norway_2015                 2.46531  2015         Europe         Europe  \n",
       "Canada_2015                 2.45176  2015  North America  North America  "
      ]
     },
     "execution_count": 48,
     "metadata": {},
     "output_type": "execute_result"
    }
   ],
   "source": [
    "# Combine all year DF's into one DF\n",
    "happyall_region_df = pd.concat([happy15_region_df, happy16_region_df, happy17_region_df])"
   ]
  },
  {
   "cell_type": "code",
   "execution_count": 66,
   "metadata": {},
   "outputs": [],
   "source": [
    "#Reorder fields for final output\n",
    "all_cols = ['YEAR','COUNTRY','REGION','CONTINENT','HAPPINESS_RANK','HAPPINESS_SCORE','ECONOMY_GDP_PER_CAPITA',\n",
    "                      'FAMILY','HEALTH_LIFE_EXPECTANCY','FREEDOM','GENEROSITY','TRUST_GOVERNMENT_CORRUPTION','DYSTOPIA_RESIDUAL']\n",
    "happyall_region_df2= happyall_region_df[all_cols].copy()"
   ]
  },
  {
   "cell_type": "code",
   "execution_count": 68,
   "metadata": {},
   "outputs": [
    {
     "data": {
      "text/plain": [
       "['happiness_by_region_yr']"
      ]
     },
     "execution_count": 68,
     "metadata": {},
     "output_type": "execute_result"
    }
   ],
   "source": [
    "#Create database connection\n",
    "##Note: {your_password} should be inserted\n",
    "connection_string = \"root:{your_password}$@localhost/happiness_data\"\n",
    "engine = create_engine(f'mysql://{connection_string}')\n",
    "\n",
    "# confirm tables\n",
    "engine.table_names()"
   ]
  },
  {
   "cell_type": "code",
   "execution_count": 71,
   "metadata": {},
   "outputs": [],
   "source": [
    "# load final df into sql database\n",
    "happyall_region_df2.to_sql(name='happiness_by_region_yr', con=engine, if_exists='append', index=True)"
   ]
  },
  {
   "cell_type": "code",
   "execution_count": null,
   "metadata": {},
   "outputs": [],
   "source": []
  }
 ],
 "metadata": {
  "kernelspec": {
   "display_name": "Python 3",
   "language": "python",
   "name": "python3"
  },
  "language_info": {
   "codemirror_mode": {
    "name": "ipython",
    "version": 3
   },
   "file_extension": ".py",
   "mimetype": "text/x-python",
   "name": "python",
   "nbconvert_exporter": "python",
   "pygments_lexer": "ipython3",
   "version": "3.6.6"
  }
 },
 "nbformat": 4,
 "nbformat_minor": 2
}
